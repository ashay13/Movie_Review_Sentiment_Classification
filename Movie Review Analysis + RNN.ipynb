{
 "cells": [
  {
   "cell_type": "markdown",
   "metadata": {},
   "source": [
    "## Sentiment Analysis of IMDB Movie Reviews using Recurrent Neural Networks"
   ]
  },
  {
   "cell_type": "markdown",
   "metadata": {},
   "source": [
    "### Abstract\n",
    "#### This project uses Recurrent Neural Network (RNN) to perfrom Sentiment Analysis on Movie Reviews collected from IMDb. We used Keras to build a RNN model, after fine tuning the hyperparameters, model achieved 83.88% accuracy on test dataset. Based on some previous experiments, it is very likely that combining Convolutional Neural Network (CNN) with Recurrent Neural Network (RNN) could increase the test accuracy.\n",
    "\n",
    "### Introduction\n",
    "#### 1. IMDb is an online database of information related to world films, television programs, home videos and video games and internet streams. IMDb are very famous for authenticate movie ratings and reviews. <br><br>2. Our task is to build a model which will classify the movie reviews as either Positive or Negative. We are using Recurrent Neural Network (RNN) to learn patterns in a sentence. <br><br>3. Our approach is to tokenize the sentence and limit its length to a pre-defined value (100). Using Embedding layer with 50 dimensions, learn a filter and perform max pooling operation. Then use Feed Forward Neural Network with Dense layer and ReLU as activation function. Finally I used single unit output layer with sigmoid function to classify review as either positive or negative. "
   ]
  },
  {
   "cell_type": "code",
   "execution_count": 1,
   "metadata": {},
   "outputs": [
    {
     "name": "stderr",
     "output_type": "stream",
     "text": [
      "Using TensorFlow backend.\n"
     ]
    }
   ],
   "source": [
    "#Imports\n",
    "from keras.preprocessing import sequence\n",
    "from keras.models import Sequential\n",
    "from keras.layers import Dense, Dropout\n",
    "from keras.layers import Embedding,GlobalMaxPooling1D\n",
    "from keras.layers import LSTM\n",
    "from keras.datasets import imdb\n",
    "import matplotlib.pyplot as plt\n",
    "%matplotlib inline\n",
    "from keras.utils.vis_utils import plot_model"
   ]
  },
  {
   "cell_type": "code",
   "execution_count": 2,
   "metadata": {},
   "outputs": [
    {
     "name": "stdout",
     "output_type": "stream",
     "text": [
      "Defining Hyperparameters...\n"
     ]
    }
   ],
   "source": [
    "print('Defining Hyperparameters...')\n",
    "max_features = 15000\n",
    "maxlen = 100\n",
    "batch_size = 100\n",
    "\n",
    "embedding_dims = 50\n",
    "epochs = 5"
   ]
  },
  {
   "cell_type": "code",
   "execution_count": 3,
   "metadata": {},
   "outputs": [
    {
     "name": "stdout",
     "output_type": "stream",
     "text": [
      "Loading data...\n"
     ]
    }
   ],
   "source": [
    "print('Loading data...')\n",
    "(x_train, y_train), (x_test, y_test) = imdb.load_data(num_words=max_features)"
   ]
  },
  {
   "cell_type": "code",
   "execution_count": 4,
   "metadata": {},
   "outputs": [
    {
     "name": "stdout",
     "output_type": "stream",
     "text": [
      "Padding sequences...\n"
     ]
    }
   ],
   "source": [
    "print('Padding sequences...')\n",
    "x_train = sequence.pad_sequences(x_train, maxlen=maxlen)\n",
    "x_test = sequence.pad_sequences(x_test, maxlen=maxlen)"
   ]
  },
  {
   "cell_type": "code",
   "execution_count": 5,
   "metadata": {},
   "outputs": [
    {
     "name": "stdout",
     "output_type": "stream",
     "text": [
      "Define model...\n"
     ]
    }
   ],
   "source": [
    "print('Define model...')\n",
    "model = Sequential()\n",
    "model.add(Embedding(max_features, embedding_dims, input_length=maxlen))\n",
    "model.add(LSTM(maxlen,return_sequences=True))\n",
    "model.add(LSTM(50, dropout=0.2, recurrent_dropout=0.2,return_sequences=True))\n",
    "model.add(LSTM(20, dropout=0.2, recurrent_dropout=0.2,return_sequences=True))\n",
    "model.add(LSTM(10, dropout=0.2, recurrent_dropout=0.2,return_sequences=True))\n",
    "model.add(GlobalMaxPooling1D())\n",
    "model.add(Dropout(0.5))\n",
    "model.add(Dense(1, activation='sigmoid'))"
   ]
  },
  {
   "cell_type": "code",
   "execution_count": 6,
   "metadata": {},
   "outputs": [
    {
     "name": "stdout",
     "output_type": "stream",
     "text": [
      "Build model...\n",
      "Train on 25000 samples, validate on 25000 samples\n",
      "Epoch 1/5\n",
      "25000/25000 [==============================] - 153s 6ms/step - loss: 0.5723 - acc: 0.7102 - val_loss: 0.4387 - val_acc: 0.8110\n",
      "Epoch 2/5\n",
      "25000/25000 [==============================] - 240s 10ms/step - loss: 0.4213 - acc: 0.8372 - val_loss: 0.3951 - val_acc: 0.8273\n",
      "Epoch 3/5\n",
      "25000/25000 [==============================] - 291s 12ms/step - loss: 0.3603 - acc: 0.8682 - val_loss: 0.4311 - val_acc: 0.8224\n",
      "Epoch 4/5\n",
      "25000/25000 [==============================] - 285s 11ms/step - loss: 0.3269 - acc: 0.8865 - val_loss: 0.4048 - val_acc: 0.8266\n",
      "Epoch 5/5\n",
      "25000/25000 [==============================] - 279s 11ms/step - loss: 0.3022 - acc: 0.8970 - val_loss: 0.4164 - val_acc: 0.8239\n"
     ]
    }
   ],
   "source": [
    "print('Build model...')\n",
    "model.compile(loss='binary_crossentropy', optimizer='RMSProp', metrics=['accuracy'])\n",
    "performance = model.fit(x_train, y_train, batch_size=batch_size, epochs=epochs, validation_data=(x_test, y_test))"
   ]
  },
  {
   "cell_type": "code",
   "execution_count": 7,
   "metadata": {},
   "outputs": [
    {
     "name": "stdout",
     "output_type": "stream",
     "text": [
      "_________________________________________________________________\n",
      "Layer (type)                 Output Shape              Param #   \n",
      "=================================================================\n",
      "embedding_1 (Embedding)      (None, 100, 50)           750000    \n",
      "_________________________________________________________________\n",
      "lstm_1 (LSTM)                (None, 100, 100)          60400     \n",
      "_________________________________________________________________\n",
      "lstm_2 (LSTM)                (None, 100, 50)           30200     \n",
      "_________________________________________________________________\n",
      "lstm_3 (LSTM)                (None, 100, 20)           5680      \n",
      "_________________________________________________________________\n",
      "lstm_4 (LSTM)                (None, 100, 10)           1240      \n",
      "_________________________________________________________________\n",
      "global_max_pooling1d_1 (Glob (None, 10)                0         \n",
      "_________________________________________________________________\n",
      "dropout_1 (Dropout)          (None, 10)                0         \n",
      "_________________________________________________________________\n",
      "dense_1 (Dense)              (None, 1)                 11        \n",
      "=================================================================\n",
      "Total params: 847,531\n",
      "Trainable params: 847,531\n",
      "Non-trainable params: 0\n",
      "_________________________________________________________________\n"
     ]
    }
   ],
   "source": [
    "model.summary()"
   ]
  },
  {
   "cell_type": "code",
   "execution_count": 8,
   "metadata": {},
   "outputs": [
    {
     "data": {
      "text/plain": [
       "Text(0.5,1,'Train vs Validation Accuracy')"
      ]
     },
     "execution_count": 8,
     "metadata": {},
     "output_type": "execute_result"
    },
    {
     "data": {
      "image/png": "[encoded data removed]",
      "text/plain": [
       "<matplotlib.figure.Figure at 0x2859d1b6d30>"
      ]
     },
     "metadata": {},
     "output_type": "display_data"
    }
   ],
   "source": [
    "plt.plot(performance.history['acc'])\n",
    "plt.plot(performance.history['val_acc'])\n",
    "plt.xlabel('epochs')\n",
    "plt.ylabel('accuracy')\n",
    "plt.legend(['train set', 'validation set'], loc='best')\n",
    "plt.title('Train vs Validation Accuracy')"
   ]
  },
  {
   "cell_type": "code",
   "execution_count": 9,
   "metadata": {},
   "outputs": [
    {
     "data": {
      "text/plain": [
       "Text(0.5,1,'Train vs Validation Loss')"
      ]
     },
     "execution_count": 9,
     "metadata": {},
     "output_type": "execute_result"
    },
    {
     "data": {
      "image/png": "[encoded data removed]",
      "text/plain": [
       "<matplotlib.figure.Figure at 0x285a101a320>"
      ]
     },
     "metadata": {},
     "output_type": "display_data"
    }
   ],
   "source": [
    "plt.plot(performance.history['loss'])\n",
    "plt.plot(performance.history['val_loss'])\n",
    "plt.xlabel('epochs')\n",
    "plt.ylabel('Binary Crossentropy Loss')\n",
    "plt.legend(['train set', 'validation set'], loc='best')\n",
    "plt.title('Train vs Validation Loss')"
   ]
  },
  {
   "cell_type": "code",
   "execution_count": null,
   "metadata": {},
   "outputs": [],
   "source": []
  }
 ],
 "metadata": {
  "kernelspec": {
   "display_name": "Python 3",
   "language": "python",
   "name": "python3"
  },
  "language_info": {
   "codemirror_mode": {
    "name": "ipython",
    "version": 3
   },
   "file_extension": ".py",
   "mimetype": "text/x-python",
   "name": "python",
   "nbconvert_exporter": "python",
   "pygments_lexer": "ipython3",
   "version": "3.5.4"
  }
 },
 "nbformat": 4,
 "nbformat_minor": 2
}
